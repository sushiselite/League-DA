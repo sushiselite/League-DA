{
 "cells": [
  {
   "attachments": {},
   "cell_type": "markdown",
   "metadata": {},
   "source": [
    "# Importing Libraries"
   ]
  },
  {
   "cell_type": "code",
   "execution_count": 9,
   "metadata": {},
   "outputs": [],
   "source": [
    "import pandas as pd\n",
    "import numpy as np\n",
    "import matplotlib.pyplot as plt\n",
    "import seaborn as sns\n",
    "from scipy import stats\n",
    "from sklearn.preprocessing import StandardScaler"
   ]
  },
  {
   "attachments": {},
   "cell_type": "markdown",
   "metadata": {},
   "source": [
    "# Data Exploration"
   ]
  },
  {
   "cell_type": "code",
   "execution_count": 10,
   "metadata": {},
   "outputs": [
    {
     "name": "stdout",
     "output_type": "stream",
     "text": [
      "<class 'pandas.core.frame.DataFrame'>\n",
      "RangeIndex: 4960 entries, 0 to 4959\n",
      "Data columns (total 80 columns):\n",
      " #   Column                          Non-Null Count  Dtype \n",
      "---  ------                          --------------  ----- \n",
      " 0   championName                    4960 non-null   object\n",
      " 1   assists                         4960 non-null   int64 \n",
      " 2   baronKills                      4960 non-null   int64 \n",
      " 3   bountyLevel                     4960 non-null   int64 \n",
      " 4   consumablesPurchased            4960 non-null   int64 \n",
      " 5   damageDealtToBuildings          4960 non-null   int64 \n",
      " 6   damageDealtToObjectives         4960 non-null   int64 \n",
      " 7   damageDealtToTurrets            4960 non-null   int64 \n",
      " 8   damageSelfMitigated             4960 non-null   int64 \n",
      " 9   deaths                          4960 non-null   int64 \n",
      " 10  detectorWardsPlaced             4960 non-null   int64 \n",
      " 11  doubleKills                     4960 non-null   int64 \n",
      " 12  dragonKills                     4960 non-null   int64 \n",
      " 13  firstBloodAssist                4960 non-null   bool  \n",
      " 14  firstBloodKill                  4960 non-null   bool  \n",
      " 15  firstTowerAssist                4960 non-null   bool  \n",
      " 16  firstTowerKill                  4960 non-null   bool  \n",
      " 17  gameEndedInEarlySurrender       4960 non-null   bool  \n",
      " 18  gameEndedInSurrender            4960 non-null   bool  \n",
      " 19  goldEarned                      4960 non-null   int64 \n",
      " 20  goldSpent                       4960 non-null   int64 \n",
      " 21  individualPosition              4960 non-null   object\n",
      " 22  inhibitorKills                  4960 non-null   int64 \n",
      " 23  inhibitorTakedowns              4960 non-null   int64 \n",
      " 24  inhibitorsLost                  4960 non-null   int64 \n",
      " 25  itemsPurchased                  4960 non-null   int64 \n",
      " 26  killingSprees                   4960 non-null   int64 \n",
      " 27  kills                           4960 non-null   int64 \n",
      " 28  lane                            4960 non-null   object\n",
      " 29  largestCriticalStrike           4960 non-null   int64 \n",
      " 30  largestKillingSpree             4960 non-null   int64 \n",
      " 31  largestMultiKill                4960 non-null   int64 \n",
      " 32  longestTimeSpentLiving          4960 non-null   int64 \n",
      " 33  magicDamageDealt                4960 non-null   int64 \n",
      " 34  magicDamageDealtToChampions     4960 non-null   int64 \n",
      " 35  magicDamageTaken                4960 non-null   int64 \n",
      " 36  neutralMinionsKilled            4960 non-null   int64 \n",
      " 37  nexusKills                      4960 non-null   int64 \n",
      " 38  nexusLost                       4960 non-null   int64 \n",
      " 39  nexusTakedowns                  4960 non-null   int64 \n",
      " 40  objectivesStolen                4960 non-null   int64 \n",
      " 41  pentaKills                      4960 non-null   int64 \n",
      " 42  perks                           4960 non-null   object\n",
      " 43  physicalDamageDealt             4960 non-null   int64 \n",
      " 44  physicalDamageDealtToChampions  4960 non-null   int64 \n",
      " 45  physicalDamageTaken             4960 non-null   int64 \n",
      " 46  quadraKills                     4960 non-null   int64 \n",
      " 47  role                            4960 non-null   object\n",
      " 48  sightWardsBoughtInGame          4960 non-null   int64 \n",
      " 49  spell1Casts                     4960 non-null   int64 \n",
      " 50  spell2Casts                     4960 non-null   int64 \n",
      " 51  spell3Casts                     4960 non-null   int64 \n",
      " 52  spell4Casts                     4960 non-null   int64 \n",
      " 53  teamEarlySurrendered            4960 non-null   bool  \n",
      " 54  teamPosition                    3800 non-null   object\n",
      " 55  timeCCingOthers                 4960 non-null   int64 \n",
      " 56  timePlayed                      4960 non-null   int64 \n",
      " 57  totalDamageDealt                4960 non-null   int64 \n",
      " 58  totalDamageDealtToChampions     4960 non-null   int64 \n",
      " 59  totalDamageShieldedOnTeammates  4960 non-null   int64 \n",
      " 60  totalDamageTaken                4960 non-null   int64 \n",
      " 61  totalHeal                       4960 non-null   int64 \n",
      " 62  totalHealsOnTeammates           4960 non-null   int64 \n",
      " 63  totalMinionsKilled              4960 non-null   int64 \n",
      " 64  totalTimeCCDealt                4960 non-null   int64 \n",
      " 65  totalTimeSpentDead              4960 non-null   int64 \n",
      " 66  totalUnitsHealed                4960 non-null   int64 \n",
      " 67  tripleKills                     4960 non-null   int64 \n",
      " 68  trueDamageDealt                 4960 non-null   int64 \n",
      " 69  trueDamageDealtToChampions      4960 non-null   int64 \n",
      " 70  trueDamageTaken                 4960 non-null   int64 \n",
      " 71  turretKills                     4960 non-null   int64 \n",
      " 72  turretTakedowns                 4960 non-null   int64 \n",
      " 73  turretsLost                     4960 non-null   int64 \n",
      " 74  unrealKills                     4960 non-null   int64 \n",
      " 75  visionScore                     4960 non-null   int64 \n",
      " 76  visionWardsBoughtInGame         4960 non-null   int64 \n",
      " 77  wardsKilled                     4960 non-null   int64 \n",
      " 78  wardsPlaced                     4960 non-null   int64 \n",
      " 79  win                             4960 non-null   bool  \n",
      "dtypes: bool(8), int64(66), object(6)\n",
      "memory usage: 2.8+ MB\n"
     ]
    }
   ],
   "source": [
    "df = pd.read_csv(\"ChampionMatchStats.csv\")\n",
    "df.info()"
   ]
  },
  {
   "cell_type": "code",
   "execution_count": 11,
   "metadata": {},
   "outputs": [
    {
     "name": "stdout",
     "output_type": "stream",
     "text": [
      "Number of true duplicates: 260\n",
      "Duplicate rows:\n",
      "     championName  assists  baronKills  bountyLevel  consumablesPurchased  \\\n",
      "450         Fiora        5           0            1                     4   \n",
      "451       Belveth       11           1            9                     3   \n",
      "452         Annie       14           0            0                     4   \n",
      "453       Karthus       12           0            3                     2   \n",
      "454       Alistar       21           0            0                    10   \n",
      "...           ...      ...         ...          ...                   ...   \n",
      "4105       Maokai       12           0            1                     7   \n",
      "4106       LeeSin       11           1            2                     8   \n",
      "4107   Cassiopeia        4           0            0                     2   \n",
      "4108       Lucian        5           0            2                     5   \n",
      "4109        Rakan       23           0            0                    12   \n",
      "\n",
      "      damageDealtToBuildings  damageDealtToObjectives  damageDealtToTurrets  \\\n",
      "450                     4304                     7157                  4304   \n",
      "451                     4409                    40066                  4409   \n",
      "452                     4818                     6467                  4818   \n",
      "453                     2259                    20886                  2259   \n",
      "454                      191                      554                   191   \n",
      "...                      ...                      ...                   ...   \n",
      "4105                    1917                     3805                  1917   \n",
      "4106                    5107                    35266                  5107   \n",
      "4107                    1164                     8403                  1164   \n",
      "4108                    8724                    22505                  8724   \n",
      "4109                    1391                     2997                  1391   \n",
      "\n",
      "      damageSelfMitigated  deaths  ...  trueDamageTaken  turretKills  \\\n",
      "450                 23341       8  ...              215            2   \n",
      "451                 35012       2  ...             3941            1   \n",
      "452                 11552       2  ...              522            2   \n",
      "453                  7218       5  ...              803            1   \n",
      "454                 22510       3  ...             1898            0   \n",
      "...                   ...     ...  ...              ...          ...   \n",
      "4105                29301       0  ...              142            0   \n",
      "4106                26455       2  ...               90            2   \n",
      "4107                13256       5  ...              383            1   \n",
      "4108                 9035       3  ...              180            3   \n",
      "4109                12520       4  ...              133            1   \n",
      "\n",
      "      turretTakedowns  turretsLost  unrealKills  visionScore  \\\n",
      "450                 2            3            0           25   \n",
      "451                 2            3            0           34   \n",
      "452                 2            3            0           27   \n",
      "453                 1            3            0           10   \n",
      "454                 0            3            0           72   \n",
      "...               ...          ...          ...          ...   \n",
      "4105                1            0            0           29   \n",
      "4106                4            0            0           26   \n",
      "4107                1            0            0           12   \n",
      "4108                4            0            0           21   \n",
      "4109                2            0            0           58   \n",
      "\n",
      "      visionWardsBoughtInGame  wardsKilled  wardsPlaced   win  \n",
      "450                         3            1            9  True  \n",
      "451                         2           10            4  True  \n",
      "452                         2            4           11  True  \n",
      "453                         0            2            6  True  \n",
      "454                         7            6           33  True  \n",
      "...                       ...          ...          ...   ...  \n",
      "4105                        5            2           13  True  \n",
      "4106                        6            4           12  True  \n",
      "4107                        0            2            6  True  \n",
      "4108                        4            1           11  True  \n",
      "4109                       10            4           30  True  \n",
      "\n",
      "[260 rows x 80 columns]\n",
      "Row numbers of duplicate rows: [ 450  451  452  453  454  455  456  457  458  459  500  501  502  503\n",
      "  504  505  506  507  508  509  540  541  542  543  544  545  546  547\n",
      "  548  549  600  601  602  603  604  605  606  607  608  609  850  851\n",
      "  852  853  854  855  856  857  858  859  880  881  882  883  884  885\n",
      "  886  887  888  889 1000 1001 1002 1003 1004 1005 1006 1007 1008 1009\n",
      " 1070 1071 1072 1073 1074 1075 1076 1077 1078 1079 1110 1111 1112 1113\n",
      " 1114 1115 1116 1117 1118 1119 1130 1131 1132 1133 1134 1135 1136 1137\n",
      " 1138 1139 1140 1141 1142 1143 1144 1145 1146 1147 1148 1149 1160 1161\n",
      " 1162 1163 1164 1165 1166 1167 1168 1169 1250 1251 1252 1253 1254 1255\n",
      " 1256 1257 1258 1259 1260 1261 1262 1263 1264 1265 1266 1267 1268 1269\n",
      " 1340 1341 1342 1343 1344 1345 1346 1347 1348 1349 2000 2001 2002 2003\n",
      " 2004 2005 2006 2007 2008 2009 2030 2031 2032 2033 2034 2035 2036 2037\n",
      " 2038 2039 2070 2071 2072 2073 2074 2075 2076 2077 2078 2079 2230 2231\n",
      " 2232 2233 2234 2235 2236 2237 2238 2239 2240 2241 2242 2243 2244 2245\n",
      " 2246 2247 2248 2249 2300 2301 2302 2303 2304 2305 2306 2307 2308 2309\n",
      " 2420 2421 2422 2423 2424 2425 2426 2427 2428 2429 2430 2431 2432 2433\n",
      " 2434 2435 2436 2437 2438 2439 2640 2641 2642 2643 2644 2645 2646 2647\n",
      " 2648 2649 3220 3221 3222 3223 3224 3225 3226 3227 3228 3229 4100 4101\n",
      " 4102 4103 4104 4105 4106 4107 4108 4109]\n"
     ]
    }
   ],
   "source": [
    "duplicates_mask = df.duplicated(keep=False)\n",
    "\n",
    "# Count the number of true duplicates\n",
    "num_duplicates = duplicates_mask.sum()\n",
    "print(f\"Number of true duplicates: {num_duplicates}\")\n",
    "\n",
    "# Display the duplicate rows\n",
    "print(\"Duplicate rows:\")\n",
    "print(df[duplicates_mask])\n",
    "\n",
    "# Get the row numbers of the duplicates\n",
    "row_numbers = np.where(duplicates_mask)[0]\n",
    "print(f\"Row numbers of duplicate rows: {row_numbers}\")"
   ]
  },
  {
   "cell_type": "code",
   "execution_count": 12,
   "metadata": {},
   "outputs": [],
   "source": [
    "df = df.drop_duplicates()\n",
    "df = df.reset_index(drop=True)"
   ]
  },
  {
   "cell_type": "code",
   "execution_count": 13,
   "metadata": {},
   "outputs": [
    {
     "name": "stdout",
     "output_type": "stream",
     "text": [
      "\n",
      "\u001b[1mInference:\u001b[0m The Datset consists of 80 features & 4830 samples.\n"
     ]
    }
   ],
   "source": [
    "target = 'win'\n",
    "features = [i for i in df.columns if i not in [target]]\n",
    "original_df = df.copy(deep=True)\n",
    "print('\\n\\033[1mInference:\\033[0m The Datset consists of {} features & {} samples.'.format(df.shape[1], df.shape[0]))"
   ]
  },
  {
   "cell_type": "code",
   "execution_count": 14,
   "metadata": {},
   "outputs": [
    {
     "data": {
      "text/plain": [
       "unrealKills                       1\n",
       "sightWardsBoughtInGame            1\n",
       "nexusTakedowns                    2\n",
       "teamEarlySurrendered              2\n",
       "nexusLost                         2\n",
       "                               ... \n",
       "totalDamageDealtToChampions    4477\n",
       "totalDamageTaken               4505\n",
       "physicalDamageDealt            4652\n",
       "totalDamageDealt               4756\n",
       "perks                          4830\n",
       "Length: 80, dtype: int64"
      ]
     },
     "execution_count": 14,
     "metadata": {},
     "output_type": "execute_result"
    }
   ],
   "source": [
    "df.nunique().sort_values()"
   ]
  },
  {
   "cell_type": "code",
   "execution_count": 15,
   "metadata": {},
   "outputs": [
    {
     "name": "stdout",
     "output_type": "stream",
     "text": [
      "\n",
      "\u001b[1mInference:\u001b[0m The Datset has 47 numerical & 32 categorical features.\n"
     ]
    }
   ],
   "source": [
    "nu = df[features].nunique().sort_values()\n",
    "nf = []; cf = []; nnf = 0; ncf = 0; #numerical & categorical features\n",
    "\n",
    "for i in range(df[features].shape[1]):\n",
    "    if nu.values[i]<=16:cf.append(nu.index[i])\n",
    "    else: nf.append(nu.index[i])\n",
    "\n",
    "print('\\n\\033[1mInference:\\033[0m The Datset has {} numerical & {} categorical features.'.format(len(nf),len(cf)))"
   ]
  },
  {
   "cell_type": "code",
   "execution_count": 16,
   "metadata": {},
   "outputs": [
    {
     "data": {
      "text/html": [
       "<div>\n",
       "<style scoped>\n",
       "    .dataframe tbody tr th:only-of-type {\n",
       "        vertical-align: middle;\n",
       "    }\n",
       "\n",
       "    .dataframe tbody tr th {\n",
       "        vertical-align: top;\n",
       "    }\n",
       "\n",
       "    .dataframe thead th {\n",
       "        text-align: right;\n",
       "    }\n",
       "</style>\n",
       "<table border=\"1\" class=\"dataframe\">\n",
       "  <thead>\n",
       "    <tr style=\"text-align: right;\">\n",
       "      <th></th>\n",
       "      <th>assists</th>\n",
       "      <th>baronKills</th>\n",
       "      <th>bountyLevel</th>\n",
       "      <th>consumablesPurchased</th>\n",
       "      <th>damageDealtToBuildings</th>\n",
       "      <th>damageDealtToObjectives</th>\n",
       "      <th>damageDealtToTurrets</th>\n",
       "      <th>damageSelfMitigated</th>\n",
       "      <th>deaths</th>\n",
       "      <th>detectorWardsPlaced</th>\n",
       "      <th>...</th>\n",
       "      <th>trueDamageDealtToChampions</th>\n",
       "      <th>trueDamageTaken</th>\n",
       "      <th>turretKills</th>\n",
       "      <th>turretTakedowns</th>\n",
       "      <th>turretsLost</th>\n",
       "      <th>unrealKills</th>\n",
       "      <th>visionScore</th>\n",
       "      <th>visionWardsBoughtInGame</th>\n",
       "      <th>wardsKilled</th>\n",
       "      <th>wardsPlaced</th>\n",
       "    </tr>\n",
       "  </thead>\n",
       "  <tbody>\n",
       "    <tr>\n",
       "      <th>count</th>\n",
       "      <td>4830.000000</td>\n",
       "      <td>4830.000000</td>\n",
       "      <td>4830.000000</td>\n",
       "      <td>4830.000000</td>\n",
       "      <td>4830.000000</td>\n",
       "      <td>4830.000000</td>\n",
       "      <td>4830.000000</td>\n",
       "      <td>4830.000000</td>\n",
       "      <td>4830.000000</td>\n",
       "      <td>4830.000000</td>\n",
       "      <td>...</td>\n",
       "      <td>4830.000000</td>\n",
       "      <td>4830.000000</td>\n",
       "      <td>4830.000000</td>\n",
       "      <td>4830.000000</td>\n",
       "      <td>4830.000000</td>\n",
       "      <td>4830.0</td>\n",
       "      <td>4830.000000</td>\n",
       "      <td>4830.000000</td>\n",
       "      <td>4830.000000</td>\n",
       "      <td>4830.000000</td>\n",
       "    </tr>\n",
       "    <tr>\n",
       "      <th>mean</th>\n",
       "      <td>10.908282</td>\n",
       "      <td>0.066874</td>\n",
       "      <td>0.951967</td>\n",
       "      <td>3.504762</td>\n",
       "      <td>2136.456522</td>\n",
       "      <td>7718.303727</td>\n",
       "      <td>2136.456522</td>\n",
       "      <td>17426.836232</td>\n",
       "      <td>5.954037</td>\n",
       "      <td>1.742236</td>\n",
       "      <td>...</td>\n",
       "      <td>1038.657350</td>\n",
       "      <td>1092.316356</td>\n",
       "      <td>0.804348</td>\n",
       "      <td>1.693789</td>\n",
       "      <td>4.168737</td>\n",
       "      <td>0.0</td>\n",
       "      <td>20.100414</td>\n",
       "      <td>2.010559</td>\n",
       "      <td>2.635404</td>\n",
       "      <td>8.340580</td>\n",
       "    </tr>\n",
       "    <tr>\n",
       "      <th>std</th>\n",
       "      <td>9.476288</td>\n",
       "      <td>0.267444</td>\n",
       "      <td>1.911960</td>\n",
       "      <td>3.314951</td>\n",
       "      <td>2684.405498</td>\n",
       "      <td>11033.546068</td>\n",
       "      <td>2684.405498</td>\n",
       "      <td>16634.508188</td>\n",
       "      <td>3.734339</td>\n",
       "      <td>2.502270</td>\n",
       "      <td>...</td>\n",
       "      <td>1692.803941</td>\n",
       "      <td>1342.612491</td>\n",
       "      <td>1.181071</td>\n",
       "      <td>1.793208</td>\n",
       "      <td>3.295908</td>\n",
       "      <td>0.0</td>\n",
       "      <td>21.552713</td>\n",
       "      <td>2.813689</td>\n",
       "      <td>3.218647</td>\n",
       "      <td>10.194838</td>\n",
       "    </tr>\n",
       "    <tr>\n",
       "      <th>min</th>\n",
       "      <td>0.000000</td>\n",
       "      <td>0.000000</td>\n",
       "      <td>0.000000</td>\n",
       "      <td>0.000000</td>\n",
       "      <td>0.000000</td>\n",
       "      <td>0.000000</td>\n",
       "      <td>0.000000</td>\n",
       "      <td>0.000000</td>\n",
       "      <td>0.000000</td>\n",
       "      <td>0.000000</td>\n",
       "      <td>...</td>\n",
       "      <td>0.000000</td>\n",
       "      <td>0.000000</td>\n",
       "      <td>0.000000</td>\n",
       "      <td>0.000000</td>\n",
       "      <td>0.000000</td>\n",
       "      <td>0.0</td>\n",
       "      <td>0.000000</td>\n",
       "      <td>0.000000</td>\n",
       "      <td>0.000000</td>\n",
       "      <td>0.000000</td>\n",
       "    </tr>\n",
       "    <tr>\n",
       "      <th>25%</th>\n",
       "      <td>4.000000</td>\n",
       "      <td>0.000000</td>\n",
       "      <td>0.000000</td>\n",
       "      <td>1.000000</td>\n",
       "      <td>247.000000</td>\n",
       "      <td>940.000000</td>\n",
       "      <td>247.000000</td>\n",
       "      <td>7300.500000</td>\n",
       "      <td>3.000000</td>\n",
       "      <td>0.000000</td>\n",
       "      <td>...</td>\n",
       "      <td>64.000000</td>\n",
       "      <td>301.000000</td>\n",
       "      <td>0.000000</td>\n",
       "      <td>0.000000</td>\n",
       "      <td>2.000000</td>\n",
       "      <td>0.0</td>\n",
       "      <td>3.000000</td>\n",
       "      <td>0.000000</td>\n",
       "      <td>0.000000</td>\n",
       "      <td>1.000000</td>\n",
       "    </tr>\n",
       "    <tr>\n",
       "      <th>50%</th>\n",
       "      <td>8.000000</td>\n",
       "      <td>0.000000</td>\n",
       "      <td>0.000000</td>\n",
       "      <td>3.000000</td>\n",
       "      <td>1183.500000</td>\n",
       "      <td>3030.500000</td>\n",
       "      <td>1183.500000</td>\n",
       "      <td>12373.000000</td>\n",
       "      <td>6.000000</td>\n",
       "      <td>1.000000</td>\n",
       "      <td>...</td>\n",
       "      <td>521.000000</td>\n",
       "      <td>660.500000</td>\n",
       "      <td>0.000000</td>\n",
       "      <td>1.000000</td>\n",
       "      <td>4.000000</td>\n",
       "      <td>0.0</td>\n",
       "      <td>15.000000</td>\n",
       "      <td>1.000000</td>\n",
       "      <td>2.000000</td>\n",
       "      <td>6.000000</td>\n",
       "    </tr>\n",
       "    <tr>\n",
       "      <th>75%</th>\n",
       "      <td>16.000000</td>\n",
       "      <td>0.000000</td>\n",
       "      <td>1.000000</td>\n",
       "      <td>5.000000</td>\n",
       "      <td>3007.750000</td>\n",
       "      <td>9684.250000</td>\n",
       "      <td>3007.750000</td>\n",
       "      <td>21627.000000</td>\n",
       "      <td>8.000000</td>\n",
       "      <td>3.000000</td>\n",
       "      <td>...</td>\n",
       "      <td>1224.750000</td>\n",
       "      <td>1355.000000</td>\n",
       "      <td>1.000000</td>\n",
       "      <td>3.000000</td>\n",
       "      <td>7.000000</td>\n",
       "      <td>0.0</td>\n",
       "      <td>27.000000</td>\n",
       "      <td>3.000000</td>\n",
       "      <td>4.000000</td>\n",
       "      <td>10.000000</td>\n",
       "    </tr>\n",
       "    <tr>\n",
       "      <th>max</th>\n",
       "      <td>65.000000</td>\n",
       "      <td>2.000000</td>\n",
       "      <td>16.000000</td>\n",
       "      <td>25.000000</td>\n",
       "      <td>21896.000000</td>\n",
       "      <td>94556.000000</td>\n",
       "      <td>21896.000000</td>\n",
       "      <td>203932.000000</td>\n",
       "      <td>25.000000</td>\n",
       "      <td>20.000000</td>\n",
       "      <td>...</td>\n",
       "      <td>18412.000000</td>\n",
       "      <td>16272.000000</td>\n",
       "      <td>9.000000</td>\n",
       "      <td>10.000000</td>\n",
       "      <td>11.000000</td>\n",
       "      <td>0.0</td>\n",
       "      <td>161.000000</td>\n",
       "      <td>23.000000</td>\n",
       "      <td>35.000000</td>\n",
       "      <td>89.000000</td>\n",
       "    </tr>\n",
       "  </tbody>\n",
       "</table>\n",
       "<p>8 rows × 66 columns</p>\n",
       "</div>"
      ],
      "text/plain": [
       "           assists   baronKills  bountyLevel  consumablesPurchased  \\\n",
       "count  4830.000000  4830.000000  4830.000000           4830.000000   \n",
       "mean     10.908282     0.066874     0.951967              3.504762   \n",
       "std       9.476288     0.267444     1.911960              3.314951   \n",
       "min       0.000000     0.000000     0.000000              0.000000   \n",
       "25%       4.000000     0.000000     0.000000              1.000000   \n",
       "50%       8.000000     0.000000     0.000000              3.000000   \n",
       "75%      16.000000     0.000000     1.000000              5.000000   \n",
       "max      65.000000     2.000000    16.000000             25.000000   \n",
       "\n",
       "       damageDealtToBuildings  damageDealtToObjectives  damageDealtToTurrets  \\\n",
       "count             4830.000000              4830.000000           4830.000000   \n",
       "mean              2136.456522              7718.303727           2136.456522   \n",
       "std               2684.405498             11033.546068           2684.405498   \n",
       "min                  0.000000                 0.000000              0.000000   \n",
       "25%                247.000000               940.000000            247.000000   \n",
       "50%               1183.500000              3030.500000           1183.500000   \n",
       "75%               3007.750000              9684.250000           3007.750000   \n",
       "max              21896.000000             94556.000000          21896.000000   \n",
       "\n",
       "       damageSelfMitigated       deaths  detectorWardsPlaced  ...  \\\n",
       "count          4830.000000  4830.000000          4830.000000  ...   \n",
       "mean          17426.836232     5.954037             1.742236  ...   \n",
       "std           16634.508188     3.734339             2.502270  ...   \n",
       "min               0.000000     0.000000             0.000000  ...   \n",
       "25%            7300.500000     3.000000             0.000000  ...   \n",
       "50%           12373.000000     6.000000             1.000000  ...   \n",
       "75%           21627.000000     8.000000             3.000000  ...   \n",
       "max          203932.000000    25.000000            20.000000  ...   \n",
       "\n",
       "       trueDamageDealtToChampions  trueDamageTaken  turretKills  \\\n",
       "count                 4830.000000      4830.000000  4830.000000   \n",
       "mean                  1038.657350      1092.316356     0.804348   \n",
       "std                   1692.803941      1342.612491     1.181071   \n",
       "min                      0.000000         0.000000     0.000000   \n",
       "25%                     64.000000       301.000000     0.000000   \n",
       "50%                    521.000000       660.500000     0.000000   \n",
       "75%                   1224.750000      1355.000000     1.000000   \n",
       "max                  18412.000000     16272.000000     9.000000   \n",
       "\n",
       "       turretTakedowns  turretsLost  unrealKills  visionScore  \\\n",
       "count      4830.000000  4830.000000       4830.0  4830.000000   \n",
       "mean          1.693789     4.168737          0.0    20.100414   \n",
       "std           1.793208     3.295908          0.0    21.552713   \n",
       "min           0.000000     0.000000          0.0     0.000000   \n",
       "25%           0.000000     2.000000          0.0     3.000000   \n",
       "50%           1.000000     4.000000          0.0    15.000000   \n",
       "75%           3.000000     7.000000          0.0    27.000000   \n",
       "max          10.000000    11.000000          0.0   161.000000   \n",
       "\n",
       "       visionWardsBoughtInGame  wardsKilled  wardsPlaced  \n",
       "count              4830.000000  4830.000000  4830.000000  \n",
       "mean                  2.010559     2.635404     8.340580  \n",
       "std                   2.813689     3.218647    10.194838  \n",
       "min                   0.000000     0.000000     0.000000  \n",
       "25%                   0.000000     0.000000     1.000000  \n",
       "50%                   1.000000     2.000000     6.000000  \n",
       "75%                   3.000000     4.000000    10.000000  \n",
       "max                  23.000000    35.000000    89.000000  \n",
       "\n",
       "[8 rows x 66 columns]"
      ]
     },
     "metadata": {},
     "output_type": "display_data"
    }
   ],
   "source": [
    "display(df.describe())"
   ]
  },
  {
   "attachments": {},
   "cell_type": "markdown",
   "metadata": {},
   "source": [
    "# EDA"
   ]
  },
  {
   "attachments": {},
   "cell_type": "markdown",
   "metadata": {},
   "source": [
    "# Section 1: General Statistics and Distribution Analysis"
   ]
  },
  {
   "attachments": {},
   "cell_type": "markdown",
   "metadata": {},
   "source": [
    "1.1 Overview:\n",
    "\n",
    "Explore the basic statistics of the dataset, such as mean, median, minimum, maximum, and standard deviation.\n",
    "Visualize the distribution of certain features using histograms, box plots, or density plots."
   ]
  },
  {
   "cell_type": "code",
   "execution_count": 17,
   "metadata": {},
   "outputs": [
    {
     "name": "stdout",
     "output_type": "stream",
     "text": [
      "Overview statistics:\n",
      "       championName      assists   baronKills  bountyLevel  \\\n",
      "count          4830  4830.000000  4830.000000  4830.000000   \n",
      "unique          163          NaN          NaN          NaN   \n",
      "top        Aphelios          NaN          NaN          NaN   \n",
      "freq            103          NaN          NaN          NaN   \n",
      "mean            NaN    10.908282     0.066874     0.951967   \n",
      "std             NaN     9.476288     0.267444     1.911960   \n",
      "min             NaN     0.000000     0.000000     0.000000   \n",
      "25%             NaN     4.000000     0.000000     0.000000   \n",
      "50%             NaN     8.000000     0.000000     0.000000   \n",
      "75%             NaN    16.000000     0.000000     1.000000   \n",
      "max             NaN    65.000000     2.000000    16.000000   \n",
      "\n",
      "        consumablesPurchased  damageDealtToBuildings  damageDealtToObjectives  \\\n",
      "count            4830.000000             4830.000000              4830.000000   \n",
      "unique                   NaN                     NaN                      NaN   \n",
      "top                      NaN                     NaN                      NaN   \n",
      "freq                     NaN                     NaN                      NaN   \n",
      "mean                3.504762             2136.456522              7718.303727   \n",
      "std                 3.314951             2684.405498             11033.546068   \n",
      "min                 0.000000                0.000000                 0.000000   \n",
      "25%                 1.000000              247.000000               940.000000   \n",
      "50%                 3.000000             1183.500000              3030.500000   \n",
      "75%                 5.000000             3007.750000              9684.250000   \n",
      "max                25.000000            21896.000000             94556.000000   \n",
      "\n",
      "        damageDealtToTurrets  damageSelfMitigated       deaths  ...  \\\n",
      "count            4830.000000          4830.000000  4830.000000  ...   \n",
      "unique                   NaN                  NaN          NaN  ...   \n",
      "top                      NaN                  NaN          NaN  ...   \n",
      "freq                     NaN                  NaN          NaN  ...   \n",
      "mean             2136.456522         17426.836232     5.954037  ...   \n",
      "std              2684.405498         16634.508188     3.734339  ...   \n",
      "min                 0.000000             0.000000     0.000000  ...   \n",
      "25%               247.000000          7300.500000     3.000000  ...   \n",
      "50%              1183.500000         12373.000000     6.000000  ...   \n",
      "75%              3007.750000         21627.000000     8.000000  ...   \n",
      "max             21896.000000        203932.000000    25.000000  ...   \n",
      "\n",
      "        trueDamageTaken  turretKills  turretTakedowns  turretsLost  \\\n",
      "count       4830.000000  4830.000000      4830.000000  4830.000000   \n",
      "unique              NaN          NaN              NaN          NaN   \n",
      "top                 NaN          NaN              NaN          NaN   \n",
      "freq                NaN          NaN              NaN          NaN   \n",
      "mean        1092.316356     0.804348         1.693789     4.168737   \n",
      "std         1342.612491     1.181071         1.793208     3.295908   \n",
      "min            0.000000     0.000000         0.000000     0.000000   \n",
      "25%          301.000000     0.000000         0.000000     2.000000   \n",
      "50%          660.500000     0.000000         1.000000     4.000000   \n",
      "75%         1355.000000     1.000000         3.000000     7.000000   \n",
      "max        16272.000000     9.000000        10.000000    11.000000   \n",
      "\n",
      "       unrealKills  visionScore visionWardsBoughtInGame  wardsKilled  \\\n",
      "count       4830.0  4830.000000             4830.000000  4830.000000   \n",
      "unique         NaN          NaN                     NaN          NaN   \n",
      "top            NaN          NaN                     NaN          NaN   \n",
      "freq           NaN          NaN                     NaN          NaN   \n",
      "mean           0.0    20.100414                2.010559     2.635404   \n",
      "std            0.0    21.552713                2.813689     3.218647   \n",
      "min            0.0     0.000000                0.000000     0.000000   \n",
      "25%            0.0     3.000000                0.000000     0.000000   \n",
      "50%            0.0    15.000000                1.000000     2.000000   \n",
      "75%            0.0    27.000000                3.000000     4.000000   \n",
      "max            0.0   161.000000               23.000000    35.000000   \n",
      "\n",
      "        wardsPlaced   win  \n",
      "count   4830.000000  4830  \n",
      "unique          NaN     2  \n",
      "top             NaN  True  \n",
      "freq            NaN  2415  \n",
      "mean       8.340580   NaN  \n",
      "std       10.194838   NaN  \n",
      "min        0.000000   NaN  \n",
      "25%        1.000000   NaN  \n",
      "50%        6.000000   NaN  \n",
      "75%       10.000000   NaN  \n",
      "max       89.000000   NaN  \n",
      "\n",
      "[11 rows x 80 columns]\n",
      "\n",
      "Specific statistics:\n",
      "            kills    goldEarned\n",
      "mean     5.930642  10651.175569\n",
      "median   5.000000  10496.000000\n",
      "min      0.000000    500.000000\n",
      "max     43.000000  24214.000000\n",
      "std      5.158329   3920.938039\n"
     ]
    }
   ],
   "source": [
    "# Use 'include' parameter to also see statistics of categorical data\n",
    "overview = df.describe(include='all')\n",
    "\n",
    "# Display the statistics of specific columns, e.g. 'kills', 'goldEarned'\n",
    "specific_stats = df[['kills', 'goldEarned']].agg([np.mean, np.median, np.min, np.max, np.std])\n",
    "\n",
    "# Display the overview and specific stats\n",
    "print(\"Overview statistics:\")\n",
    "print(overview)\n",
    "print(\"\\nSpecific statistics:\")\n",
    "print(specific_stats)"
   ]
  },
  {
   "cell_type": "code",
   "execution_count": 19,
   "metadata": {},
   "outputs": [
    {
     "data": {
      "image/png": "[encoded data removed]",
      "text/plain": [
       "<Figure size 1000x500 with 1 Axes>"
      ]
     },
     "metadata": {},
     "output_type": "display_data"
    },
    {
     "data": {
      "image/png": "[encoded data removed]",
      "text/plain": [
       "<Figure size 1000x500 with 1 Axes>"
      ]
     },
     "metadata": {},
     "output_type": "display_data"
    },
    {
     "name": "stderr",
     "output_type": "stream",
     "text": [
      "/var/folders/_n/_yykdhz173s6gl14wjfjkjxw0000gn/T/ipykernel_14924/2295443771.py:18: FutureWarning: \n",
      "\n",
      "`shade` is now deprecated in favor of `fill`; setting `fill=True`.\n",
      "This will become an error in seaborn v0.14.0; please update your code.\n",
      "\n",
      "  sns.kdeplot(df['totalDamageDealt'], shade=True)\n"
     ]
    },
    {
     "data": {
      "image/png": "[encoded data removed]",
      "text/plain": [
       "<Figure size 1000x500 with 1 Axes>"
      ]
     },
     "metadata": {},
     "output_type": "display_data"
    }
   ],
   "source": [
    "# Histogram for kills\n",
    "plt.figure(figsize=(10, 5))\n",
    "sns.histplot(df['kills'], kde=True, bins=20)\n",
    "plt.title('Distribution of Kills')\n",
    "plt.xlabel('Kills')\n",
    "plt.ylabel('Frequency')\n",
    "plt.show()\n",
    "\n",
    "# Box plot for goldEarned\n",
    "plt.figure(figsize=(10, 5))\n",
    "sns.boxplot(x=df['goldEarned'])\n",
    "plt.title('Distribution of Gold Earned')\n",
    "plt.xlabel('Gold Earned')\n",
    "plt.show()\n",
    "\n",
    "# Density plot for totalDamageDealt\n",
    "plt.figure(figsize=(10, 5))\n",
    "sns.kdeplot(df['totalDamageDealt'], shade=True)\n",
    "plt.title('Density Plot of Total Damage Dealt')\n",
    "plt.xlabel('Total Damage Dealt')\n",
    "plt.ylabel('Density')\n",
    "plt.show()"
   ]
  },
  {
   "attachments": {},
   "cell_type": "markdown",
   "metadata": {},
   "source": [
    "1.2 Role Analysis:\n",
    "\n",
    "Investigate the distribution of champions across different roles (e.g., top, jungle, mid, ADC, support).\n",
    "Analyze the most popular and least popular roles.\n",
    "Examine the win rates for each role and identify potential trends."
   ]
  },
  {
   "cell_type": "code",
   "execution_count": 20,
   "metadata": {},
   "outputs": [
    {
     "data": {
      "image/png": "[encoded data removed]",
      "text/plain": [
       "<Figure size 1000x500 with 1 Axes>"
      ]
     },
     "metadata": {},
     "output_type": "display_data"
    }
   ],
   "source": [
    "# Count the number of champions in each role\n",
    "role_counts = df['role'].value_counts()\n",
    "\n",
    "# Plotting the distribution of champions across roles\n",
    "plt.figure(figsize=(10, 5))\n",
    "sns.barplot(x=role_counts.index, y=role_counts.values)\n",
    "plt.title('Distribution of Champions Across Different Roles')\n",
    "plt.xlabel('Role')\n",
    "plt.ylabel('Number of Champions')\n",
    "plt.show()"
   ]
  },
  {
   "cell_type": "code",
   "execution_count": 21,
   "metadata": {},
   "outputs": [
    {
     "name": "stdout",
     "output_type": "stream",
     "text": [
      "The most popular role is SUPPORT with 2340 champions.\n",
      "The least popular role is DUO with 404 champions.\n"
     ]
    }
   ],
   "source": [
    "# Most popular role\n",
    "most_popular_role = role_counts.idxmax()\n",
    "num_most_popular = role_counts.max()\n",
    "\n",
    "# Least popular role\n",
    "least_popular_role = role_counts.idxmin()\n",
    "num_least_popular = role_counts.min()\n",
    "\n",
    "print(f\"The most popular role is {most_popular_role} with {num_most_popular} champions.\")\n",
    "print(f\"The least popular role is {least_popular_role} with {num_least_popular} champions.\")"
   ]
  },
  {
   "cell_type": "code",
   "execution_count": 22,
   "metadata": {},
   "outputs": [
    {
     "data": {
      "image/png": "[encoded data removed]",
      "text/plain": [
       "<Figure size 1000x500 with 1 Axes>"
      ]
     },
     "metadata": {},
     "output_type": "display_data"
    }
   ],
   "source": [
    "# Calculate the win rates for each role\n",
    "win_rates = df.groupby('role')['win'].mean()\n",
    "\n",
    "# Plotting win rates across different roles\n",
    "plt.figure(figsize=(10, 5))\n",
    "sns.barplot(x=win_rates.index, y=win_rates.values * 100)\n",
    "plt.title('Win Rates by Role')\n",
    "plt.xlabel('Role')\n",
    "plt.ylabel('Win Rate (%)')\n",
    "plt.show()"
   ]
  },
  {
   "attachments": {},
   "cell_type": "markdown",
   "metadata": {},
   "source": [
    "1.3 Win-Loss Analysis:\n",
    "\n",
    "Calculate the overall win rate and visualize it.\n",
    "Identify any differences in win rates based on specific features, such as game duration, champions, or roles.\n",
    "Perform a statistical analysis (e.g., t-test) to determine if certain features significantly affect the win rate."
   ]
  },
  {
   "attachments": {},
   "cell_type": "markdown",
   "metadata": {},
   "source": [
    "# Section 2: Champion Performance Analysis"
   ]
  },
  {
   "attachments": {},
   "cell_type": "markdown",
   "metadata": {},
   "source": [
    "2.1 Kills and Deaths:\n",
    "\n",
    "Analyze the distribution of kills and deaths across champions.\n",
    "Identify champions with high kill participation and low death rates.\n",
    "Investigate the relationship between kills, deaths, and win rate."
   ]
  },
  {
   "attachments": {},
   "cell_type": "markdown",
   "metadata": {},
   "source": [
    "2.2 Damage Analysis:\n",
    "\n",
    "Study the damage dealt to objectives, turrets, buildings, and champions.\n",
    "Compare physical, magical, and true damage statistics.\n",
    "Explore the relationship between damage dealt and win rate."
   ]
  },
  {
   "attachments": {},
   "cell_type": "markdown",
   "metadata": {},
   "source": [
    "2.3 Vision and Warding:\n",
    "\n",
    "Examine the importance of vision in League of Legends.\n",
    "Analyze the vision score, wards placed, wards killed, and vision wards bought.\n",
    "Investigate the correlation between vision-related features and win rate."
   ]
  },
  {
   "attachments": {},
   "cell_type": "markdown",
   "metadata": {},
   "source": [
    "# Section 3: Strategy Analysis"
   ]
  },
  {
   "attachments": {},
   "cell_type": "markdown",
   "metadata": {},
   "source": [
    "3.1 Objective Control:\n",
    "\n",
    "Investigate dragon and baron kills and their impact on win rate.\n",
    "Analyze inhibitors, turrets, and nexus takedowns.\n",
    "Identify strategies related to objective control that lead to higher win rates."
   ]
  },
  {
   "attachments": {},
   "cell_type": "markdown",
   "metadata": {},
   "source": [
    "3.2 Multi-Kills and Killing Sprees:\n",
    "\n",
    "Study multi-kills (double, triple, quadra, penta) and their occurrence.\n",
    "Analyze the relationship between killing sprees and win rate.\n",
    "Investigate the impact of early game first bloods and first tower kills on the outcome."
   ]
  },
  {
   "attachments": {},
   "cell_type": "markdown",
   "metadata": {},
   "source": [
    "# Conclusion"
   ]
  },
  {
   "attachments": {},
   "cell_type": "markdown",
   "metadata": {},
   "source": [
    "Summarize the key findings from the EDA.\n",
    "Highlight interesting patterns, correlations, or strategies discovered in the dataset.\n",
    "Suggest potential areas for further analysis or research.\n"
   ]
  }
 ],
 "metadata": {
  "kernelspec": {
   "display_name": "Python 3",
   "language": "python",
   "name": "python3"
  },
  "language_info": {
   "codemirror_mode": {
    "name": "ipython",
    "version": 3
   },
   "file_extension": ".py",
   "mimetype": "text/x-python",
   "name": "python",
   "nbconvert_exporter": "python",
   "pygments_lexer": "ipython3",
   "version": "3.11.4"
  },
  "orig_nbformat": 4
 },
 "nbformat": 4,
 "nbformat_minor": 2
}
